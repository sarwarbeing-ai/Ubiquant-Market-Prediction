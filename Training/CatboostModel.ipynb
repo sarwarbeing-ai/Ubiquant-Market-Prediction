{
  "nbformat": 4,
  "nbformat_minor": 0,
  "metadata": {
    "colab": {
      "name": "CatboostModel.ipynb",
      "provenance": []
    },
    "kernelspec": {
      "name": "python3",
      "display_name": "Python 3"
    },
    "language_info": {
      "name": "python"
    }
  },
  "cells": [
    {
      "cell_type": "code",
      "execution_count": null,
      "metadata": {
        "id": "HKMdMQHY1d9R"
      },
      "outputs": [],
      "source": [
        "from google.colab import drive\n",
        "drive.mount('/content/drive')"
      ]
    },
    {
      "cell_type": "code",
      "source": [
        "!mkdir /content/drive/MyDrive/sarwar/catboost_model"
      ],
      "metadata": {
        "id": "X_HbvZiY1j4M"
      },
      "execution_count": null,
      "outputs": []
    },
    {
      "cell_type": "code",
      "source": [
        "import os\n",
        "import numpy as np\n",
        "import pandas as pd \n",
        "from tqdm import tqdm_notebook\n",
        "from sklearn.model_selection import GroupKFold,KFold,StratifiedKFold\n",
        "from sklearn.preprocessing import StandardScaler,MinMaxScaler\n",
        "import warnings\n",
        "warnings.filterwarnings('ignore')\n",
        "import lightgbm as lgb\n",
        "import gc\n",
        "import pickle\n",
        "from IPython.display import FileLink\n",
        "import random\n",
        "import joblib\n",
        "import matplotlib.pyplot as plt\n",
        "import tensorflow as tf\n",
        "from tensorflow.keras import layers\n",
        "from tensorflow.keras.layers import Activation,BatchNormalization\n",
        "from tensorflow.keras import regularizers\n",
        "from tensorflow import keras\n",
        "import tensorflow as tf\n",
        "from tensorflow.keras import backend as K\n",
        "pd.set_option('display.max_columns',500)\n",
        "pd.set_option('display.max_rows',100)"
      ],
      "metadata": {
        "id": "YsFTPu981msn"
      },
      "execution_count": null,
      "outputs": []
    },
    {
      "cell_type": "code",
      "source": [
        "seed=2022\n",
        "random.seed(seed)\n",
        "np.random.seed(seed)\n",
        "tf.random.set_seed(seed)\n",
        "os.environ['PYTHONHASHSEED']=str(seed)"
      ],
      "metadata": {
        "id": "o9SxDBXp1mqn"
      },
      "execution_count": null,
      "outputs": []
    },
    {
      "cell_type": "code",
      "source": [
        "%%time\n",
        "data_path=\"/content/drive/MyDrive/sarwar/\"\n",
        "train=pd.read_pickle(os.path.join(data_path,\"train.pickle\"))"
      ],
      "metadata": {
        "id": "L6L51MQB1mm6"
      },
      "execution_count": null,
      "outputs": []
    },
    {
      "cell_type": "code",
      "source": [
        "train.head(10)"
      ],
      "metadata": {
        "id": "6Dajl3Wg1mj8"
      },
      "execution_count": null,
      "outputs": []
    },
    {
      "cell_type": "code",
      "source": [
        "print(\"Train shape:\",train.shape)"
      ],
      "metadata": {
        "id": "AFpKCYzZ1mgy"
      },
      "execution_count": null,
      "outputs": []
    },
    {
      "cell_type": "code",
      "source": [
        "n_features = 300\n",
        "features = [f'f_{i}' for i in range(n_features)]"
      ],
      "metadata": {
        "id": "s1eAtKk-1mds"
      },
      "execution_count": null,
      "outputs": []
    },
    {
      "cell_type": "code",
      "source": [
        "# metric\n",
        "def pearson_correlation(df):\n",
        "    corr=df.groupby('time_id')[['target','prediction']].corr().unstack().iloc[:,1].mean()\n",
        "    return corr"
      ],
      "metadata": {
        "id": "v7Eez4JV1map"
      },
      "execution_count": null,
      "outputs": []
    },
    {
      "cell_type": "code",
      "source": [
        "from scipy.stats import ttest_ind\n",
        "features_group=[] # highly related\n",
        "for i in range(300):\n",
        "  tresult=[]\n",
        "  for j in range(300):\n",
        "    if i!=j:\n",
        "       ttest=ttest_ind(train[f'f_{i}'],train[f'f_{j}'],equal_var=False).pvalue\n",
        "       tresult.append((f'f_{j}',ttest))\n",
        "  # sort \n",
        "  tresult.sort(key=lambda x:x[1],reverse=True)\n",
        "  features_group.append((f'f_{i}',tresult[0][0],tresult[0][1]))\n",
        "features_group.sort(key=lambda x:x[2],reverse=True)"
      ],
      "metadata": {
        "id": "QP0tUAOA1mLW"
      },
      "execution_count": null,
      "outputs": []
    },
    {
      "cell_type": "code",
      "source": [
        "features_group[0:10]"
      ],
      "metadata": {
        "id": "PAMrzwZA7-3B"
      },
      "execution_count": null,
      "outputs": []
    },
    {
      "cell_type": "code",
      "source": [
        "np.save(\"/content/drive/MyDrive/sarwar/catboost_model/features_group.npy\",np.array(features_group))"
      ],
      "metadata": {
        "id": "zDAcOFia7_rf"
      },
      "execution_count": null,
      "outputs": []
    },
    {
      "cell_type": "code",
      "source": [
        "features_group=np.load(\"/content/drive/MyDrive/sarwar/catboost_model/features_group.npy\")"
      ],
      "metadata": {
        "id": "q22YB5gY8HyG"
      },
      "execution_count": null,
      "outputs": []
    },
    {
      "cell_type": "code",
      "source": [
        "features_group[0:10]"
      ],
      "metadata": {
        "id": "TC9X8Fxx8MF5"
      },
      "execution_count": null,
      "outputs": []
    },
    {
      "cell_type": "code",
      "source": [
        "filter_features=features_group[0:251:2]\n",
        "for col1,col2,_ in filter_features:\n",
        "  col=col1+col2\n",
        "  train[col]=train[col1]*train[col2]\n"
      ],
      "metadata": {
        "id": "9CazCpH18O3H"
      },
      "execution_count": null,
      "outputs": []
    },
    {
      "cell_type": "code",
      "source": [
        "!pip install catboost"
      ],
      "metadata": {
        "id": "gG_qQZG68Vw2"
      },
      "execution_count": null,
      "outputs": []
    },
    {
      "cell_type": "code",
      "source": [
        "from catboost import CatBoostRegressor"
      ],
      "metadata": {
        "id": "fKsIuyCd8Zz9"
      },
      "execution_count": null,
      "outputs": []
    },
    {
      "cell_type": "code",
      "source": [
        "features=['investment_id']+train.columns.to_list()[4:]\n",
        "kfold=KFold(n_splits=5,shuffle=False)\n",
        "# Store out of folds predictions\n",
        "oof_predictions = np.zeros(len(train))\n",
        "for fold, (trn_ind, val_ind) in enumerate(kfold.split(train)):\n",
        "    print(f'Training fold {fold + 1}')\n",
        "    x_train, x_val = train[features].iloc[trn_ind], train[features].iloc[val_ind]\n",
        "    y_train, y_val = train['target'].iloc[trn_ind], train['target'].iloc[val_ind]\n",
        "    n_training_rows = x_train.shape[0]\n",
        "    n_validation_rows = x_val.shape[0]\n",
        "    print(f'Training with {n_training_rows} rows')\n",
        "    print(f'Validating with {n_validation_rows} rows')\n",
        "    print(f'Training dart boosting model with {len(features)} features...')\n",
        "    model=CatBoostRegressor(iterations=1500,\n",
        "                        learning_rate=0.03,\n",
        "                        depth=10,\n",
        "                        l2_leaf_reg=3.0,\n",
        "                        model_size_reg=1,\n",
        "                        leaf_estimation_method='Gradient',\n",
        "                        thread_count=-1,\n",
        "                        use_best_model=True,\n",
        "                        od_pval=10**(-5),\n",
        "                        od_wait=20,\n",
        "                        od_type='IncToDec',\n",
        "                        random_strength=1,\n",
        "                        eval_metric='MAE',\n",
        "                        train_dir='metric_visualization',\n",
        "                        bagging_temperature=2,\n",
        "                        task_type='GPU',\n",
        "                        devices='0',\n",
        "                        bootstrap_type='Bayesian',\n",
        "                        name='Ubiquant',\n",
        "                        random_state=seed,\n",
        "                        max_bin=100,\n",
        "                        min_data_in_leaf=300,\n",
        "                        score_function='L2',\n",
        "                        )\n",
        "    model.fit(x_train,y_train,\n",
        "    cat_features=[0],\n",
        "    eval_set=(x_val,y_val),\n",
        "    verbose=50,\n",
        "    plot=False,\n",
        "    metric_period=None,\n",
        "    early_stopping_rounds=30)\n",
        "\n",
        "    # Predict validation set\n",
        "    val_pred = model.predict(x_val)\n",
        "    # Add validation prediction to out of folds array\n",
        "    oof_predictions[val_ind] = val_pred.reshape(-1)\n",
        "    # Save model to disk for inference\n",
        "    model.save_model(f\"/content/drive/MyDrive/sarwar/catboost_model/fold_{fold+1}.bin\")\n",
        "    del x_val,y_val,model,x_train,y_train,val_pred\n",
        "    gc.collect()\n",
        "# Compute out of folds Pearson Correlation Coefficient (for each time_id)\n",
        "oof_df = pd.DataFrame({'time_id': train['time_id'], 'target': train['target'], 'prediction': oof_predictions})\n",
        "# Save out of folds csv for blending\n",
        "oof_df.to_csv('/content/drive/MyDrive/sarwar/catboost_model/simple_cat.csv', index = False)\n",
        "score = pearson_correlation(oof_df)\n",
        "print(f'Our out of folds mean pearson correlation coefficient is {score}')  \n"
      ],
      "metadata": {
        "id": "fppmtjgl1mG4"
      },
      "execution_count": null,
      "outputs": []
    },
    {
      "cell_type": "code",
      "source": [
        ""
      ],
      "metadata": {
        "id": "uCQVjPIK1lhj"
      },
      "execution_count": null,
      "outputs": []
    }
  ]
}
{
 "cells": [
  {
   "cell_type": "code",
   "execution_count": 1,
   "id": "060046e1",
   "metadata": {
    "execution": {
     "iopub.execute_input": "2022-04-19T23:23:31.900605Z",
     "iopub.status.busy": "2022-04-19T23:23:31.899111Z",
     "iopub.status.idle": "2022-04-19T23:23:40.075345Z",
     "shell.execute_reply": "2022-04-19T23:23:40.074392Z",
     "shell.execute_reply.started": "2022-04-19T23:19:04.997820Z"
    },
    "papermill": {
     "duration": 8.199321,
     "end_time": "2022-04-19T23:23:40.075499",
     "exception": false,
     "start_time": "2022-04-19T23:23:31.876178",
     "status": "completed"
    },
    "tags": []
   },
   "outputs": [
    {
     "data": {
      "text/html": [
       "<style type='text/css'>\n",
       ".datatable table.frame { margin-bottom: 0; }\n",
       ".datatable table.frame thead { border-bottom: none; }\n",
       ".datatable table.frame tr.coltypes td {  color: #FFFFFF;  line-height: 6px;  padding: 0 0.5em;}\n",
       ".datatable .bool    { background: #DDDD99; }\n",
       ".datatable .object  { background: #565656; }\n",
       ".datatable .int     { background: #5D9E5D; }\n",
       ".datatable .float   { background: #4040CC; }\n",
       ".datatable .str     { background: #CC4040; }\n",
       ".datatable .time    { background: #40CC40; }\n",
       ".datatable .row_index {  background: var(--jp-border-color3);  border-right: 1px solid var(--jp-border-color0);  color: var(--jp-ui-font-color3);  font-size: 9px;}\n",
       ".datatable .frame tbody td { text-align: left; }\n",
       ".datatable .frame tr.coltypes .row_index {  background: var(--jp-border-color0);}\n",
       ".datatable th:nth-child(2) { padding-left: 12px; }\n",
       ".datatable .hellipsis {  color: var(--jp-cell-editor-border-color);}\n",
       ".datatable .vellipsis {  background: var(--jp-layout-color0);  color: var(--jp-cell-editor-border-color);}\n",
       ".datatable .na {  color: var(--jp-cell-editor-border-color);  font-size: 80%;}\n",
       ".datatable .sp {  opacity: 0.25;}\n",
       ".datatable .footer { font-size: 9px; }\n",
       ".datatable .frame_dimensions {  background: var(--jp-border-color3);  border-top: 1px solid var(--jp-border-color0);  color: var(--jp-ui-font-color3);  display: inline-block;  opacity: 0.6;  padding: 1px 10px 1px 5px;}\n",
       "</style>\n"
      ],
      "text/plain": [
       "<IPython.core.display.HTML object>"
      ]
     },
     "metadata": {},
     "output_type": "display_data"
    }
   ],
   "source": [
    "import os\n",
    "import numpy as np\n",
    "import pandas as pd \n",
    "from tqdm import tqdm_notebook\n",
    "from sklearn.model_selection import GroupKFold,KFold,StratifiedKFold\n",
    "from sklearn.linear_model import LinearRegression\n",
    "import warnings\n",
    "warnings.filterwarnings('ignore')\n",
    "import lightgbm as lgb\n",
    "import gc\n",
    "import pickle\n",
    "from IPython.display import FileLink\n",
    "import random\n",
    "import joblib\n",
    "import matplotlib.pyplot as plt\n",
    "import tensorflow as tf\n",
    "from tensorflow.keras import layers\n",
    "from tensorflow import keras\n",
    "import tensorflow as tf\n",
    "from catboost import CatBoostRegressor\n",
    "import catboost as cat\n",
    "from tensorflow.keras import backend as K\n",
    "pd.set_option('display.max_columns',500)\n",
    "pd.set_option('display.max_rows',50)"
   ]
  },
  {
   "cell_type": "code",
   "execution_count": 2,
   "id": "695fab60",
   "metadata": {
    "execution": {
     "iopub.execute_input": "2022-04-19T23:23:40.118214Z",
     "iopub.status.busy": "2022-04-19T23:23:40.117381Z",
     "iopub.status.idle": "2022-04-19T23:23:40.119177Z",
     "shell.execute_reply": "2022-04-19T23:23:40.119612Z",
     "shell.execute_reply.started": "2022-04-19T23:19:13.090435Z"
    },
    "papermill": {
     "duration": 0.024616,
     "end_time": "2022-04-19T23:23:40.119742",
     "exception": false,
     "start_time": "2022-04-19T23:23:40.095126",
     "status": "completed"
    },
    "tags": []
   },
   "outputs": [],
   "source": [
    "seed=2022\n",
    "random.seed(seed)\n",
    "np.random.seed(seed)\n",
    "tf.random.set_seed(seed)\n",
    "os.environ['PYTHONHASHSEED']=str(seed)"
   ]
  },
  {
   "cell_type": "code",
   "execution_count": 3,
   "id": "611385a3",
   "metadata": {
    "execution": {
     "iopub.execute_input": "2022-04-19T23:23:40.160000Z",
     "iopub.status.busy": "2022-04-19T23:23:40.157578Z",
     "iopub.status.idle": "2022-04-19T23:24:15.524880Z",
     "shell.execute_reply": "2022-04-19T23:24:15.524397Z",
     "shell.execute_reply.started": "2022-04-19T23:19:13.102122Z"
    },
    "papermill": {
     "duration": 35.387557,
     "end_time": "2022-04-19T23:24:15.525059",
     "exception": false,
     "start_time": "2022-04-19T23:23:40.137502",
     "status": "completed"
    },
    "tags": []
   },
   "outputs": [],
   "source": [
    "train=pd.read_pickle(\"../input/ubiquant-compreesed-data/train.pickle\")"
   ]
  },
  {
   "cell_type": "code",
   "execution_count": 4,
   "id": "52124d6d",
   "metadata": {
    "execution": {
     "iopub.execute_input": "2022-04-19T23:24:15.573872Z",
     "iopub.status.busy": "2022-04-19T23:24:15.573070Z",
     "iopub.status.idle": "2022-04-19T23:24:15.575099Z",
     "shell.execute_reply": "2022-04-19T23:24:15.575542Z",
     "shell.execute_reply.started": "2022-04-19T23:19:48.544622Z"
    },
    "papermill": {
     "duration": 0.032148,
     "end_time": "2022-04-19T23:24:15.575676",
     "exception": false,
     "start_time": "2022-04-19T23:24:15.543528",
     "status": "completed"
    },
    "tags": []
   },
   "outputs": [],
   "source": [
    "investment_id=train[\"investment_id\"]"
   ]
  },
  {
   "cell_type": "code",
   "execution_count": 5,
   "id": "9bab2aa9",
   "metadata": {
    "execution": {
     "iopub.execute_input": "2022-04-19T23:24:15.621697Z",
     "iopub.status.busy": "2022-04-19T23:24:15.620953Z",
     "iopub.status.idle": "2022-04-19T23:25:13.043969Z",
     "shell.execute_reply": "2022-04-19T23:25:13.044425Z",
     "shell.execute_reply.started": "2022-04-19T23:19:48.558499Z"
    },
    "papermill": {
     "duration": 57.450527,
     "end_time": "2022-04-19T23:25:13.044580",
     "exception": false,
     "start_time": "2022-04-19T23:24:15.594053",
     "status": "completed"
    },
    "tags": []
   },
   "outputs": [
    {
     "name": "stderr",
     "output_type": "stream",
     "text": [
      "2022-04-19 23:24:15.728933: I tensorflow/stream_executor/cuda/cuda_gpu_executor.cc:937] successful NUMA node read from SysFS had negative value (-1), but there must be at least one NUMA node, so returning NUMA node zero\n",
      "2022-04-19 23:24:15.733790: I tensorflow/stream_executor/cuda/cuda_gpu_executor.cc:937] successful NUMA node read from SysFS had negative value (-1), but there must be at least one NUMA node, so returning NUMA node zero\n",
      "2022-04-19 23:24:15.734529: I tensorflow/stream_executor/cuda/cuda_gpu_executor.cc:937] successful NUMA node read from SysFS had negative value (-1), but there must be at least one NUMA node, so returning NUMA node zero\n",
      "2022-04-19 23:24:15.735793: I tensorflow/core/platform/cpu_feature_guard.cc:142] This TensorFlow binary is optimized with oneAPI Deep Neural Network Library (oneDNN) to use the following CPU instructions in performance-critical operations:  AVX2 AVX512F FMA\n",
      "To enable them in other operations, rebuild TensorFlow with the appropriate compiler flags.\n",
      "2022-04-19 23:24:15.736159: I tensorflow/stream_executor/cuda/cuda_gpu_executor.cc:937] successful NUMA node read from SysFS had negative value (-1), but there must be at least one NUMA node, so returning NUMA node zero\n",
      "2022-04-19 23:24:15.736850: I tensorflow/stream_executor/cuda/cuda_gpu_executor.cc:937] successful NUMA node read from SysFS had negative value (-1), but there must be at least one NUMA node, so returning NUMA node zero\n",
      "2022-04-19 23:24:15.737534: I tensorflow/stream_executor/cuda/cuda_gpu_executor.cc:937] successful NUMA node read from SysFS had negative value (-1), but there must be at least one NUMA node, so returning NUMA node zero\n",
      "2022-04-19 23:24:17.379446: I tensorflow/stream_executor/cuda/cuda_gpu_executor.cc:937] successful NUMA node read from SysFS had negative value (-1), but there must be at least one NUMA node, so returning NUMA node zero\n",
      "2022-04-19 23:24:17.380547: I tensorflow/stream_executor/cuda/cuda_gpu_executor.cc:937] successful NUMA node read from SysFS had negative value (-1), but there must be at least one NUMA node, so returning NUMA node zero\n",
      "2022-04-19 23:24:17.381482: I tensorflow/stream_executor/cuda/cuda_gpu_executor.cc:937] successful NUMA node read from SysFS had negative value (-1), but there must be at least one NUMA node, so returning NUMA node zero\n",
      "2022-04-19 23:24:17.383300: I tensorflow/core/common_runtime/gpu/gpu_device.cc:1510] Created device /job:localhost/replica:0/task:0/device:GPU:0 with 15417 MB memory:  -> device: 0, name: Tesla P100-PCIE-16GB, pci bus id: 0000:00:04.0, compute capability: 6.0\n",
      "2022-04-19 23:24:17.872027: I tensorflow/compiler/mlir/mlir_graph_optimization_pass.cc:185] None of the MLIR Optimization Passes are enabled (registered 2)\n"
     ]
    },
    {
     "name": "stdout",
     "output_type": "stream",
     "text": [
      "CPU times: user 1min 10s, sys: 9.08 s, total: 1min 20s\n",
      "Wall time: 57.4 s\n"
     ]
    }
   ],
   "source": [
    "%%time\n",
    "investment_ids = list(investment_id.unique())\n",
    "investment_id_size = len(investment_ids) + 1\n",
    "investment_id_lookup_layer = layers.IntegerLookup(max_tokens=investment_id_size)\n",
    "with tf.device(\"cpu\"):\n",
    "    investment_id_lookup_layer.adapt(investment_id)"
   ]
  },
  {
   "cell_type": "code",
   "execution_count": 6,
   "id": "f50ac2da",
   "metadata": {
    "execution": {
     "iopub.execute_input": "2022-04-19T23:25:13.086883Z",
     "iopub.status.busy": "2022-04-19T23:25:13.086368Z",
     "iopub.status.idle": "2022-04-19T23:25:13.089880Z",
     "shell.execute_reply": "2022-04-19T23:25:13.089428Z",
     "shell.execute_reply.started": "2022-04-19T23:20:46.014332Z"
    },
    "papermill": {
     "duration": 0.026612,
     "end_time": "2022-04-19T23:25:13.089992",
     "exception": false,
     "start_time": "2022-04-19T23:25:13.063380",
     "status": "completed"
    },
    "tags": []
   },
   "outputs": [],
   "source": [
    "n_features = 300\n",
    "features = [f'f_{i}' for i in range(n_features)]"
   ]
  },
  {
   "cell_type": "code",
   "execution_count": 7,
   "id": "252c75d3",
   "metadata": {
    "execution": {
     "iopub.execute_input": "2022-04-19T23:25:13.132458Z",
     "iopub.status.busy": "2022-04-19T23:25:13.131634Z",
     "iopub.status.idle": "2022-04-19T23:25:13.134047Z",
     "shell.execute_reply": "2022-04-19T23:25:13.133629Z",
     "shell.execute_reply.started": "2022-04-19T23:20:46.020148Z"
    },
    "papermill": {
     "duration": 0.0249,
     "end_time": "2022-04-19T23:25:13.134159",
     "exception": false,
     "start_time": "2022-04-19T23:25:13.109259",
     "status": "completed"
    },
    "tags": []
   },
   "outputs": [],
   "source": [
    "BATCH_SIZE=1024\n",
    "LR=0.001"
   ]
  },
  {
   "cell_type": "code",
   "execution_count": 8,
   "id": "fcf13035",
   "metadata": {
    "execution": {
     "iopub.execute_input": "2022-04-19T23:25:13.183102Z",
     "iopub.status.busy": "2022-04-19T23:25:13.182361Z",
     "iopub.status.idle": "2022-04-19T23:25:13.184535Z",
     "shell.execute_reply": "2022-04-19T23:25:13.184944Z",
     "shell.execute_reply.started": "2022-04-19T23:20:46.030432Z"
    },
    "papermill": {
     "duration": 0.031809,
     "end_time": "2022-04-19T23:25:13.185092",
     "exception": false,
     "start_time": "2022-04-19T23:25:13.153283",
     "status": "completed"
    },
    "tags": []
   },
   "outputs": [],
   "source": [
    "def model1(n_features=300):\n",
    "    investment_id_inputs = tf.keras.Input((1, ), dtype=tf.uint16)\n",
    "    features_inputs = tf.keras.Input((n_features, ), dtype=tf.float16)\n",
    "    \n",
    "    investment_id_x = investment_id_lookup_layer(investment_id_inputs)\n",
    "    investment_id_x = layers.Embedding(investment_id_size, 32, input_length=1)(investment_id_x)\n",
    "    investment_id_x = layers.Reshape((-1, ))(investment_id_x)\n",
    "    investment_id_x = layers.Dense(64, activation='swish')(investment_id_x)\n",
    "    investment_id_x = layers.Dense(64, activation='swish')(investment_id_x)\n",
    "    investment_id_x = layers.Dense(64, activation='swish')(investment_id_x)\n",
    "\n",
    "    feature_x = layers.Dense(256, activation='swish')(features_inputs)\n",
    "    feature_x = layers.Dense(256, activation='swish')(feature_x)\n",
    "    feature_x = layers.Dense(256, activation='swish')(feature_x)\n",
    "    \n",
    "    x = layers.Concatenate(axis=1)([investment_id_x, feature_x])\n",
    "    x = layers.Dense(512, activation='swish', kernel_regularizer=\"l2\")(x)\n",
    "    x = layers.Dense(128, activation='swish', kernel_regularizer=\"l2\")(x)\n",
    "    x=layers.Dense(32,activation='swish',kernel_regularizer='l2')(x)\n",
    "    output = layers.Dense(1,name='mlp')(x)\n",
    "    rmse = keras.metrics.RootMeanSquaredError(name=\"rmse\")\n",
    "    model = tf.keras.Model(inputs=[investment_id_inputs, features_inputs], outputs=[output])\n",
    "    model.compile(optimizer=tf.optimizers.Adam(learning_rate=LR), loss='mse', metrics=['mse', \"mae\", \"mape\", rmse])\n",
    "    return model"
   ]
  },
  {
   "cell_type": "code",
   "execution_count": 9,
   "id": "e67aee42",
   "metadata": {
    "execution": {
     "iopub.execute_input": "2022-04-19T23:25:13.237202Z",
     "iopub.status.busy": "2022-04-19T23:25:13.236362Z",
     "iopub.status.idle": "2022-04-19T23:25:13.238404Z",
     "shell.execute_reply": "2022-04-19T23:25:13.238825Z",
     "shell.execute_reply.started": "2022-04-19T23:20:46.044954Z"
    },
    "papermill": {
     "duration": 0.034472,
     "end_time": "2022-04-19T23:25:13.238968",
     "exception": false,
     "start_time": "2022-04-19T23:25:13.204496",
     "status": "completed"
    },
    "tags": []
   },
   "outputs": [],
   "source": [
    "def model2(n_features=300):\n",
    "    investment_id_inputs = tf.keras.Input((1, ), dtype=tf.uint16)\n",
    "    features_inputs = tf.keras.Input((n_features, ), dtype=tf.float16)\n",
    "    \n",
    "    investment_id_x = investment_id_lookup_layer(investment_id_inputs)\n",
    "    investment_id_x = layers.Embedding(investment_id_size, 32, input_length=1)(investment_id_x)\n",
    "    investment_id_x = layers.Reshape((-1, ))(investment_id_x)\n",
    "    investment_id_x = layers.Dense(64, activation='swish')(investment_id_x)    \n",
    "    investment_id_x = layers.Dense(64, activation='swish')(investment_id_x)\n",
    "    investment_id_x = layers.Dense(64, activation='swish')(investment_id_x)\n",
    "    investment_id_x = layers.Dense(64, activation='swish')(investment_id_x)\n",
    "   \n",
    "    \n",
    "    feature_x = layers.Dense(256, activation='swish')(features_inputs)\n",
    "    feature_x = layers.Dense(256, activation='swish')(feature_x)\n",
    "    feature_x = layers.Dense(256, activation='swish')(feature_x)\n",
    "    feature_x = layers.Dense(256, activation='swish')(feature_x)\n",
    "    feature_x = layers.Dropout(0.65)(feature_x)\n",
    "    \n",
    "    x = layers.Concatenate(axis=1)([investment_id_x, feature_x])\n",
    "    x = layers.Dense(512, activation='swish', kernel_regularizer=\"l2\")(x)\n",
    "    x=layers.Dropout(0.50)(x)\n",
    "    x = layers.Dense(128, activation='swish', kernel_regularizer=\"l2\")(x)\n",
    "    x = layers.Dense(32, activation='swish', kernel_regularizer=\"l2\")(x)\n",
    "    x = layers.Dense(32, activation='swish', kernel_regularizer=\"l2\")(x)\n",
    "    x = layers.Dropout(0.60)(x)\n",
    "    output = layers.Dense(1)(x)\n",
    "    rmse = keras.metrics.RootMeanSquaredError(name=\"rmse\")\n",
    "    model = tf.keras.Model(inputs=[investment_id_inputs, features_inputs], outputs=[output])\n",
    "    model.compile(optimizer=tf.optimizers.Adam(LR), loss='mse', metrics=['mse', \"mae\", \"mape\", rmse])\n",
    "    return model\n"
   ]
  },
  {
   "cell_type": "code",
   "execution_count": 10,
   "id": "4288747a",
   "metadata": {
    "execution": {
     "iopub.execute_input": "2022-04-19T23:25:13.292282Z",
     "iopub.status.busy": "2022-04-19T23:25:13.290679Z",
     "iopub.status.idle": "2022-04-19T23:25:13.292869Z",
     "shell.execute_reply": "2022-04-19T23:25:13.293298Z",
     "shell.execute_reply.started": "2022-04-19T23:20:46.063126Z"
    },
    "papermill": {
     "duration": 0.033762,
     "end_time": "2022-04-19T23:25:13.293443",
     "exception": false,
     "start_time": "2022-04-19T23:25:13.259681",
     "status": "completed"
    },
    "tags": []
   },
   "outputs": [],
   "source": [
    "def model3(n_features=300):\n",
    "    investment_id_inputs = tf.keras.Input((1, ), dtype=tf.uint16)\n",
    "    features_inputs = tf.keras.Input((n_features, ), dtype=tf.float32)\n",
    "    \n",
    "    investment_id_x = investment_id_lookup_layer(investment_id_inputs)\n",
    "    investment_id_x = layers.Embedding(investment_id_size, 32, input_length=1)(investment_id_x)\n",
    "    investment_id_x = layers.Reshape((-1, ))(investment_id_x)\n",
    "    investment_id_x = layers.Dense(64, activation='swish')(investment_id_x)\n",
    "    investment_id_x = layers.Dropout(0.5)(investment_id_x)\n",
    "    investment_id_x = layers.Dense(32, activation='swish')(investment_id_x)\n",
    "    investment_id_x = layers.Dropout(0.5)(investment_id_x)\n",
    "    #investment_id_x = layers.Dense(64, activation='swish')(investment_id_x)\n",
    "    \n",
    "    feature_x = layers.Dense(256, activation='swish')(features_inputs)\n",
    "    feature_x = layers.Dropout(0.5)(feature_x)\n",
    "    feature_x = layers.Dense(128, activation='swish')(feature_x)\n",
    "    feature_x = layers.Dropout(0.5)(feature_x)\n",
    "    feature_x = layers.Dense(64, activation='swish')(feature_x)\n",
    "    \n",
    "    x = layers.Concatenate(axis=1)([investment_id_x, feature_x])\n",
    "    x = layers.Dropout(0.5)(x)\n",
    "    x = layers.Dense(64, activation='swish', kernel_regularizer=\"l2\")(x)\n",
    "    x = layers.Dropout(0.5)(x)\n",
    "    x = layers.Dense(32, activation='swish', kernel_regularizer=\"l2\")(x)\n",
    "    x = layers.Dropout(0.5)(x)\n",
    "    x = layers.Dense(16, activation='swish', kernel_regularizer=\"l2\")(x)\n",
    "    x = layers.Dropout(0.5)(x)\n",
    "    output = layers.Dense(1)(x)\n",
    "    output = tf.keras.layers.BatchNormalization(axis=1)(output)\n",
    "    rmse = keras.metrics.RootMeanSquaredError(name=\"rmse\")\n",
    "    model = tf.keras.Model(inputs=[investment_id_inputs, features_inputs], outputs=[output])\n",
    "    model.compile(optimizer=tf.optimizers.Adam(LR), loss='mse', metrics=['mse', \"mae\", \"mape\", rmse])\n",
    "    return model"
   ]
  },
  {
   "cell_type": "code",
   "execution_count": 11,
   "id": "cc9738a4",
   "metadata": {
    "execution": {
     "iopub.execute_input": "2022-04-19T23:25:13.348420Z",
     "iopub.status.busy": "2022-04-19T23:25:13.346683Z",
     "iopub.status.idle": "2022-04-19T23:25:13.349037Z",
     "shell.execute_reply": "2022-04-19T23:25:13.349498Z",
     "shell.execute_reply.started": "2022-04-19T23:20:46.081642Z"
    },
    "papermill": {
     "duration": 0.036779,
     "end_time": "2022-04-19T23:25:13.349631",
     "exception": false,
     "start_time": "2022-04-19T23:25:13.312852",
     "status": "completed"
    },
    "tags": []
   },
   "outputs": [],
   "source": [
    "def model4(n_features=300):\n",
    "    features_inputs = tf.keras.Input((n_features, ), dtype=tf.float16)\n",
    "    \n",
    "    ## feature ##\n",
    "    feature_x = layers.Dense(256, activation='swish')(features_inputs)\n",
    "    feature_x = layers.Dropout(0.1)(feature_x)\n",
    "    ## convolution 1 ##\n",
    "    feature_x = layers.Reshape((-1,1))(feature_x)\n",
    "    feature_x = layers.Conv1D(filters=16, kernel_size=4, strides=1, padding='same')(feature_x)\n",
    "    feature_x = layers.BatchNormalization()(feature_x)\n",
    "    feature_x = layers.LeakyReLU()(feature_x)\n",
    "    ## convolution 2 ##\n",
    "    feature_x = layers.Conv1D(filters=16, kernel_size=4, strides=4, padding='same')(feature_x)\n",
    "    feature_x = layers.BatchNormalization()(feature_x)\n",
    "    feature_x = layers.LeakyReLU()(feature_x)\n",
    "    ## convolution 3 ##\n",
    "    feature_x = layers.Conv1D(filters=64, kernel_size=4, strides=1, padding='same')(feature_x)\n",
    "    feature_x = layers.BatchNormalization()(feature_x)\n",
    "    feature_x = layers.LeakyReLU()(feature_x)\n",
    "    ## convolution 4 ##\n",
    "    feature_x = layers.Conv1D(filters=64, kernel_size=4, strides=4, padding='same')(feature_x)\n",
    "    feature_x = layers.BatchNormalization()(feature_x)\n",
    "    feature_x = layers.LeakyReLU()(feature_x)\n",
    "    ## convolution 5 ##\n",
    "    feature_x = layers.Conv1D(filters=64, kernel_size=4, strides=2, padding='same')(feature_x)\n",
    "    feature_x = layers.BatchNormalization()(feature_x)\n",
    "    feature_x = layers.LeakyReLU()(feature_x)\n",
    "    ## flatten ##\n",
    "    feature_x = layers.Flatten()(feature_x)\n",
    "    \n",
    "    x = layers.Dense(512, activation='swish', kernel_regularizer=\"l2\")(feature_x)\n",
    "    \n",
    "    x = layers.Dropout(0.1)(x)\n",
    "    x = layers.Dense(128, activation='swish', kernel_regularizer=\"l2\")(x)\n",
    "    x = layers.Dropout(0.1)(x)\n",
    "    x = layers.Dense(32, activation='swish', kernel_regularizer=\"l2\")(x)\n",
    "    x = layers.Dropout(0.1)(x)\n",
    "    output = layers.Dense(1)(x)\n",
    "    rmse = keras.metrics.RootMeanSquaredError(name=\"rmse\")\n",
    "    model = tf.keras.Model(inputs=[features_inputs], outputs=[output])\n",
    "    model.compile(optimizer=tf.optimizers.Adam(LR), loss='mse', metrics=['mse', \"mae\", \"mape\", rmse])\n",
    "    return model"
   ]
  },
  {
   "cell_type": "code",
   "execution_count": 12,
   "id": "16bec7c8",
   "metadata": {
    "execution": {
     "iopub.execute_input": "2022-04-19T23:25:13.398957Z",
     "iopub.status.busy": "2022-04-19T23:25:13.398133Z",
     "iopub.status.idle": "2022-04-19T23:25:20.051814Z",
     "shell.execute_reply": "2022-04-19T23:25:20.050983Z",
     "shell.execute_reply.started": "2022-04-19T23:20:46.100216Z"
    },
    "papermill": {
     "duration": 6.682632,
     "end_time": "2022-04-19T23:25:20.051950",
     "exception": false,
     "start_time": "2022-04-19T23:25:13.369318",
     "status": "completed"
    },
    "tags": []
   },
   "outputs": [],
   "source": [
    "models123=[]\n",
    "#models3=[]\n",
    "models4=[]\n",
    "for i in range(5):\n",
    "    model = model1()\n",
    "    model.load_weights(f'../input/datasetkerasmodelswith20epochs/model1-20220417T203733Z-001/model1/fold_{i+1}/cp.ckpt')\n",
    "    models123.append(model)\n",
    "\n",
    "#for i in range(10):\n",
    "#    model = model2()\n",
    "#    model.load_weights(f'../input/datasetkerasmodelswith20epochs/model2-20220417T203739Z-001/model2/fold_{i+1}/cp.ckpt')\n",
    "#    models123.append(model)\n",
    "    \n",
    "    \n",
    "for i in range(10):\n",
    "    model = model3()\n",
    "    model.load_weights(f'../input/datasetkerasmodelswith20epochs/model3-20220417T203742Z-001/model3/fold_{i+1}/cp.ckpt')\n",
    "    models123.append(model)\n",
    "    \n",
    "        \n",
    "for i in range(5):\n",
    "    model = model4()\n",
    "    model.load_weights(f'../input/datasetkerasmodelswith20epochs/model4-20220417T203746Z-001/model4/fold_{i+1}/cp.ckpt')\n",
    "    models4.append(model)"
   ]
  },
  {
   "cell_type": "code",
   "execution_count": 13,
   "id": "f40e8063",
   "metadata": {
    "execution": {
     "iopub.execute_input": "2022-04-19T23:25:20.094929Z",
     "iopub.status.busy": "2022-04-19T23:25:20.094405Z",
     "iopub.status.idle": "2022-04-19T23:25:20.425344Z",
     "shell.execute_reply": "2022-04-19T23:25:20.426168Z",
     "shell.execute_reply.started": "2022-04-19T23:20:52.749307Z"
    },
    "papermill": {
     "duration": 0.354745,
     "end_time": "2022-04-19T23:25:20.426362",
     "exception": false,
     "start_time": "2022-04-19T23:25:20.071617",
     "status": "completed"
    },
    "tags": []
   },
   "outputs": [],
   "source": [
    "# lightgbm models\n",
    "light_gbm=[]\n",
    "for i in range(10):\n",
    "    light_gbm.append(joblib.load(f\"../input/lightgbm10fold/lightgbm_model/lgbm_{i+1}.pkl\"))"
   ]
  },
  {
   "cell_type": "code",
   "execution_count": 14,
   "id": "b52a26f1",
   "metadata": {
    "execution": {
     "iopub.execute_input": "2022-04-19T23:25:20.474372Z",
     "iopub.status.busy": "2022-04-19T23:25:20.473471Z",
     "iopub.status.idle": "2022-04-19T23:25:20.475353Z",
     "shell.execute_reply": "2022-04-19T23:25:20.475813Z",
     "shell.execute_reply.started": "2022-04-19T23:20:53.200191Z"
    },
    "papermill": {
     "duration": 0.02736,
     "end_time": "2022-04-19T23:25:20.475962",
     "exception": false,
     "start_time": "2022-04-19T23:25:20.448602",
     "status": "completed"
    },
    "tags": []
   },
   "outputs": [],
   "source": [
    "n_features = 300\n",
    "features_cat = [f'f_{i}' for i in range(n_features)]\n",
    "features_cat=['investment_id']+features_cat"
   ]
  },
  {
   "cell_type": "code",
   "execution_count": 15,
   "id": "7fbf0c62",
   "metadata": {
    "execution": {
     "iopub.execute_input": "2022-04-19T23:25:20.520557Z",
     "iopub.status.busy": "2022-04-19T23:25:20.518872Z",
     "iopub.status.idle": "2022-04-19T23:25:20.522843Z",
     "shell.execute_reply": "2022-04-19T23:25:20.522418Z",
     "shell.execute_reply.started": "2022-04-19T23:20:53.207671Z"
    },
    "papermill": {
     "duration": 0.027258,
     "end_time": "2022-04-19T23:25:20.522962",
     "exception": false,
     "start_time": "2022-04-19T23:25:20.495704",
     "status": "completed"
    },
    "tags": []
   },
   "outputs": [],
   "source": [
    "# catboost model\n",
    "def catboost_prediction(data):\n",
    "    pred=[]\n",
    "    for i in range(5):\n",
    "        model=CatBoostRegressor()\n",
    "        model.load_model(f\"../input/catboostfivefold/catboost_model/fold_{i+1}.bin\")\n",
    "        pred.append(model.predict(data).reshape(-1))\n",
    "    return pred\n",
    "    "
   ]
  },
  {
   "cell_type": "code",
   "execution_count": 16,
   "id": "f81e1765",
   "metadata": {
    "execution": {
     "iopub.execute_input": "2022-04-19T23:25:21.016107Z",
     "iopub.status.busy": "2022-04-19T23:25:20.797153Z",
     "iopub.status.idle": "2022-04-19T23:25:21.021653Z",
     "shell.execute_reply": "2022-04-19T23:25:21.022105Z",
     "shell.execute_reply.started": "2022-04-19T23:20:53.217244Z"
    },
    "papermill": {
     "duration": 0.480212,
     "end_time": "2022-04-19T23:25:21.022263",
     "exception": false,
     "start_time": "2022-04-19T23:25:20.542051",
     "status": "completed"
    },
    "tags": []
   },
   "outputs": [
    {
     "data": {
      "text/plain": [
       "220"
      ]
     },
     "execution_count": 16,
     "metadata": {},
     "output_type": "execute_result"
    }
   ],
   "source": [
    "del train\n",
    "gc.collect()"
   ]
  },
  {
   "cell_type": "code",
   "execution_count": 17,
   "id": "651caeb6",
   "metadata": {
    "execution": {
     "iopub.execute_input": "2022-04-19T23:25:21.070140Z",
     "iopub.status.busy": "2022-04-19T23:25:21.068588Z",
     "iopub.status.idle": "2022-04-19T23:25:21.070727Z",
     "shell.execute_reply": "2022-04-19T23:25:21.071148Z",
     "shell.execute_reply.started": "2022-04-19T23:20:53.682424Z"
    },
    "papermill": {
     "duration": 0.029409,
     "end_time": "2022-04-19T23:25:21.071284",
     "exception": false,
     "start_time": "2022-04-19T23:25:21.041875",
     "status": "completed"
    },
    "tags": []
   },
   "outputs": [],
   "source": [
    "def preprocess_test_for_models123(investment_id, feature):\n",
    "    return (investment_id, feature), 0\n",
    "def make_test_dataset_models123(feature, investment_id, batch_size=1024):\n",
    "    ds = tf.data.Dataset.from_tensor_slices(((investment_id, feature)))\n",
    "    ds = ds.map(preprocess_test_for_models123)\n",
    "    ds = ds.batch(batch_size).cache().prefetch(tf.data.experimental.AUTOTUNE)\n",
    "    return ds\n",
    "def make_test_dataset_for_model4(feature, batch_size=1024):\n",
    "    ds = tf.data.Dataset.from_tensor_slices(((feature)))\n",
    "    ds = ds.batch(batch_size).cache().prefetch(tf.data.AUTOTUNE)\n",
    "    return ds\n",
    "def inference(models, ds):\n",
    "    y_preds = []\n",
    "    for model in models:\n",
    "        y_pred = model.predict(ds)\n",
    "        y_preds.append(y_pred.reshape(-1))\n",
    "    return y_preds"
   ]
  },
  {
   "cell_type": "code",
   "execution_count": 18,
   "id": "93e9fcb7",
   "metadata": {
    "execution": {
     "iopub.execute_input": "2022-04-19T23:25:21.141892Z",
     "iopub.status.busy": "2022-04-19T23:25:21.140745Z",
     "iopub.status.idle": "2022-04-19T23:25:32.092592Z",
     "shell.execute_reply": "2022-04-19T23:25:32.092981Z",
     "shell.execute_reply.started": "2022-04-19T23:20:53.692920Z"
    },
    "papermill": {
     "duration": 11.002227,
     "end_time": "2022-04-19T23:25:32.093165",
     "exception": false,
     "start_time": "2022-04-19T23:25:21.090938",
     "status": "completed"
    },
    "tags": []
   },
   "outputs": [
    {
     "name": "stdout",
     "output_type": "stream",
     "text": [
      "This version of the API is not optimized and should not be used to estimate the runtime of your code on the hidden test set.\n"
     ]
    },
    {
     "name": "stderr",
     "output_type": "stream",
     "text": [
      "2022-04-19 23:25:25.130457: I tensorflow/stream_executor/cuda/cuda_dnn.cc:369] Loaded cuDNN version 8005\n"
     ]
    },
    {
     "data": {
      "text/html": [
       "<div>\n",
       "<style scoped>\n",
       "    .dataframe tbody tr th:only-of-type {\n",
       "        vertical-align: middle;\n",
       "    }\n",
       "\n",
       "    .dataframe tbody tr th {\n",
       "        vertical-align: top;\n",
       "    }\n",
       "\n",
       "    .dataframe thead th {\n",
       "        text-align: right;\n",
       "    }\n",
       "</style>\n",
       "<table border=\"1\" class=\"dataframe\">\n",
       "  <thead>\n",
       "    <tr style=\"text-align: right;\">\n",
       "      <th></th>\n",
       "      <th>row_id</th>\n",
       "      <th>target</th>\n",
       "    </tr>\n",
       "  </thead>\n",
       "  <tbody>\n",
       "    <tr>\n",
       "      <th>0</th>\n",
       "      <td>1220_1</td>\n",
       "      <td>-0.066083</td>\n",
       "    </tr>\n",
       "    <tr>\n",
       "      <th>1</th>\n",
       "      <td>1220_2</td>\n",
       "      <td>-0.041669</td>\n",
       "    </tr>\n",
       "  </tbody>\n",
       "</table>\n",
       "</div>"
      ],
      "text/plain": [
       "   row_id    target\n",
       "0  1220_1 -0.066083\n",
       "1  1220_2 -0.041669"
      ]
     },
     "metadata": {},
     "output_type": "display_data"
    },
    {
     "data": {
      "text/html": [
       "<div>\n",
       "<style scoped>\n",
       "    .dataframe tbody tr th:only-of-type {\n",
       "        vertical-align: middle;\n",
       "    }\n",
       "\n",
       "    .dataframe tbody tr th {\n",
       "        vertical-align: top;\n",
       "    }\n",
       "\n",
       "    .dataframe thead th {\n",
       "        text-align: right;\n",
       "    }\n",
       "</style>\n",
       "<table border=\"1\" class=\"dataframe\">\n",
       "  <thead>\n",
       "    <tr style=\"text-align: right;\">\n",
       "      <th></th>\n",
       "      <th>row_id</th>\n",
       "      <th>target</th>\n",
       "    </tr>\n",
       "  </thead>\n",
       "  <tbody>\n",
       "    <tr>\n",
       "      <th>0</th>\n",
       "      <td>1221_0</td>\n",
       "      <td>-0.057255</td>\n",
       "    </tr>\n",
       "    <tr>\n",
       "      <th>1</th>\n",
       "      <td>1221_1</td>\n",
       "      <td>-0.064961</td>\n",
       "    </tr>\n",
       "    <tr>\n",
       "      <th>2</th>\n",
       "      <td>1221_2</td>\n",
       "      <td>-0.064389</td>\n",
       "    </tr>\n",
       "  </tbody>\n",
       "</table>\n",
       "</div>"
      ],
      "text/plain": [
       "   row_id    target\n",
       "0  1221_0 -0.057255\n",
       "1  1221_1 -0.064961\n",
       "2  1221_2 -0.064389"
      ]
     },
     "metadata": {},
     "output_type": "display_data"
    },
    {
     "data": {
      "text/html": [
       "<div>\n",
       "<style scoped>\n",
       "    .dataframe tbody tr th:only-of-type {\n",
       "        vertical-align: middle;\n",
       "    }\n",
       "\n",
       "    .dataframe tbody tr th {\n",
       "        vertical-align: top;\n",
       "    }\n",
       "\n",
       "    .dataframe thead th {\n",
       "        text-align: right;\n",
       "    }\n",
       "</style>\n",
       "<table border=\"1\" class=\"dataframe\">\n",
       "  <thead>\n",
       "    <tr style=\"text-align: right;\">\n",
       "      <th></th>\n",
       "      <th>row_id</th>\n",
       "      <th>target</th>\n",
       "    </tr>\n",
       "  </thead>\n",
       "  <tbody>\n",
       "    <tr>\n",
       "      <th>0</th>\n",
       "      <td>1222_0</td>\n",
       "      <td>-0.057122</td>\n",
       "    </tr>\n",
       "    <tr>\n",
       "      <th>1</th>\n",
       "      <td>1222_1</td>\n",
       "      <td>-0.040587</td>\n",
       "    </tr>\n",
       "    <tr>\n",
       "      <th>2</th>\n",
       "      <td>1222_2</td>\n",
       "      <td>-0.050655</td>\n",
       "    </tr>\n",
       "  </tbody>\n",
       "</table>\n",
       "</div>"
      ],
      "text/plain": [
       "   row_id    target\n",
       "0  1222_0 -0.057122\n",
       "1  1222_1 -0.040587\n",
       "2  1222_2 -0.050655"
      ]
     },
     "metadata": {},
     "output_type": "display_data"
    },
    {
     "data": {
      "text/html": [
       "<div>\n",
       "<style scoped>\n",
       "    .dataframe tbody tr th:only-of-type {\n",
       "        vertical-align: middle;\n",
       "    }\n",
       "\n",
       "    .dataframe tbody tr th {\n",
       "        vertical-align: top;\n",
       "    }\n",
       "\n",
       "    .dataframe thead th {\n",
       "        text-align: right;\n",
       "    }\n",
       "</style>\n",
       "<table border=\"1\" class=\"dataframe\">\n",
       "  <thead>\n",
       "    <tr style=\"text-align: right;\">\n",
       "      <th></th>\n",
       "      <th>row_id</th>\n",
       "      <th>target</th>\n",
       "    </tr>\n",
       "  </thead>\n",
       "  <tbody>\n",
       "    <tr>\n",
       "      <th>0</th>\n",
       "      <td>1223_0</td>\n",
       "      <td>-0.046133</td>\n",
       "    </tr>\n",
       "  </tbody>\n",
       "</table>\n",
       "</div>"
      ],
      "text/plain": [
       "   row_id    target\n",
       "0  1223_0 -0.046133"
      ]
     },
     "metadata": {},
     "output_type": "display_data"
    }
   ],
   "source": [
    "import ubiquant\n",
    "env = ubiquant.make_env()\n",
    "iter_test = env.iter_test() \n",
    "for (test_df, sample_prediction_df) in iter_test:\n",
    "    ds = make_test_dataset_models123(test_df[features], test_df[\"investment_id\"])\n",
    "    pred_123 = inference(models123, ds)\n",
    "    #p2=inference(models3,ds)\n",
    "    ds2 = make_test_dataset_for_model4(test_df[features])\n",
    "    pred_4= inference(models4, ds2)\n",
    "    data_gbm=test_df[features].values\n",
    "    pred_light=inference(light_gbm,data_gbm)\n",
    "    p_cat=catboost_prediction(test_df[features_cat])\n",
    "    pred_123_light=pred_123+pred_light+p_cat\n",
    "    p1=np.mean(pred_123_light,axis=0)\n",
    "    p2=np.mean(pred_4,axis=0)\n",
    "    sample_prediction_df['target'] = p1*0.50+p2*0.50\n",
    "    env.predict(sample_prediction_df) \n",
    "    display(sample_prediction_df)"
   ]
  },
  {
   "cell_type": "code",
   "execution_count": null,
   "id": "fab622ac",
   "metadata": {
    "papermill": {
     "duration": 0.021696,
     "end_time": "2022-04-19T23:25:32.137416",
     "exception": false,
     "start_time": "2022-04-19T23:25:32.115720",
     "status": "completed"
    },
    "tags": []
   },
   "outputs": [],
   "source": []
  },
  {
   "cell_type": "code",
   "execution_count": null,
   "id": "cf8de757",
   "metadata": {
    "papermill": {
     "duration": 0.021881,
     "end_time": "2022-04-19T23:25:32.181302",
     "exception": false,
     "start_time": "2022-04-19T23:25:32.159421",
     "status": "completed"
    },
    "tags": []
   },
   "outputs": [],
   "source": []
  }
 ],
 "metadata": {
  "kernelspec": {
   "display_name": "Python 3",
   "language": "python",
   "name": "python3"
  },
  "language_info": {
   "codemirror_mode": {
    "name": "ipython",
    "version": 3
   },
   "file_extension": ".py",
   "mimetype": "text/x-python",
   "name": "python",
   "nbconvert_exporter": "python",
   "pygments_lexer": "ipython3",
   "version": "3.7.12"
  },
  "papermill": {
   "default_parameters": {},
   "duration": 132.313703,
   "end_time": "2022-04-19T23:25:35.779381",
   "environment_variables": {},
   "exception": null,
   "input_path": "__notebook__.ipynb",
   "output_path": "__notebook__.ipynb",
   "parameters": {},
   "start_time": "2022-04-19T23:23:23.465678",
   "version": "2.3.3"
  }
 },
 "nbformat": 4,
 "nbformat_minor": 5
}
